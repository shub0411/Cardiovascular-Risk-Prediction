{
  "cells": [
    {
      "cell_type": "markdown",
      "metadata": {
        "id": "view-in-github",
        "colab_type": "text"
      },
      "source": [
        "<a href=\"https://colab.research.google.com/github/shub0411/Cardiovascular-Risk-Prediction/blob/main/Cardiovascular_Risk_Prediction_Capstone_Project.ipynb\" target=\"_parent\"><img src=\"https://colab.research.google.com/assets/colab-badge.svg\" alt=\"Open In Colab\"/></a>"
      ]
    },
    {
      "cell_type": "code",
      "execution_count": 1,
      "metadata": {
        "id": "dByMsuzT8Tnw"
      },
      "outputs": [],
      "source": [
        "import numpy as np\n",
        "import pandas as pd\n",
        "%matplotlib inline\n",
        "import seaborn as sns\n",
        "from scipy import stats\n",
        "from datetime import datetime\n",
        "import datetime as dt"
      ]
    },
    {
      "cell_type": "code",
      "execution_count": 2,
      "metadata": {
        "colab": {
          "base_uri": "https://localhost:8080/"
        },
        "id": "gapLz5Qf2uL7",
        "outputId": "b380b678-0d12-468d-fc69-a5a237c02f24"
      },
      "outputs": [
        {
          "output_type": "stream",
          "name": "stdout",
          "text": [
            "Mounted at /content/drive\n"
          ]
        }
      ],
      "source": [
        "\n",
        "from google.colab import drive\n",
        "drive.mount('/content/drive')"
      ]
    },
    {
      "cell_type": "code",
      "execution_count": 3,
      "metadata": {
        "id": "OAB46iST3LMp"
      },
      "outputs": [],
      "source": [
        "cardio_df=pd.read_csv('/content/drive/MyDrive/capstone project 3/data_cardiovascular_risk.csv', encoding ='latin')"
      ]
    },
    {
      "cell_type": "code",
      "execution_count": 4,
      "metadata": {
        "id": "xaAqltRE4YAZ",
        "colab": {
          "base_uri": "https://localhost:8080/",
          "height": 270
        },
        "outputId": "89a5e2a9-d83c-4b51-df89-abf322adb86c"
      },
      "outputs": [
        {
          "output_type": "execute_result",
          "data": {
            "text/plain": [
              "   id  age  education sex is_smoking  cigsPerDay  BPMeds  prevalentStroke  \\\n",
              "0   0   64        2.0   F        YES         3.0     0.0                0   \n",
              "1   1   36        4.0   M         NO         0.0     0.0                0   \n",
              "2   2   46        1.0   F        YES        10.0     0.0                0   \n",
              "3   3   50        1.0   M        YES        20.0     0.0                0   \n",
              "4   4   64        1.0   F        YES        30.0     0.0                0   \n",
              "\n",
              "   prevalentHyp  diabetes  totChol  sysBP  diaBP    BMI  heartRate  glucose  \\\n",
              "0             0         0    221.0  148.0   85.0    NaN       90.0     80.0   \n",
              "1             1         0    212.0  168.0   98.0  29.77       72.0     75.0   \n",
              "2             0         0    250.0  116.0   71.0  20.35       88.0     94.0   \n",
              "3             1         0    233.0  158.0   88.0  28.26       68.0     94.0   \n",
              "4             0         0    241.0  136.5   85.0  26.42       70.0     77.0   \n",
              "\n",
              "   TenYearCHD  \n",
              "0           1  \n",
              "1           0  \n",
              "2           0  \n",
              "3           1  \n",
              "4           0  "
            ],
            "text/html": [
              "\n",
              "  <div id=\"df-43f7ffb4-9b11-4543-9ac7-1e290050d86b\">\n",
              "    <div class=\"colab-df-container\">\n",
              "      <div>\n",
              "<style scoped>\n",
              "    .dataframe tbody tr th:only-of-type {\n",
              "        vertical-align: middle;\n",
              "    }\n",
              "\n",
              "    .dataframe tbody tr th {\n",
              "        vertical-align: top;\n",
              "    }\n",
              "\n",
              "    .dataframe thead th {\n",
              "        text-align: right;\n",
              "    }\n",
              "</style>\n",
              "<table border=\"1\" class=\"dataframe\">\n",
              "  <thead>\n",
              "    <tr style=\"text-align: right;\">\n",
              "      <th></th>\n",
              "      <th>id</th>\n",
              "      <th>age</th>\n",
              "      <th>education</th>\n",
              "      <th>sex</th>\n",
              "      <th>is_smoking</th>\n",
              "      <th>cigsPerDay</th>\n",
              "      <th>BPMeds</th>\n",
              "      <th>prevalentStroke</th>\n",
              "      <th>prevalentHyp</th>\n",
              "      <th>diabetes</th>\n",
              "      <th>totChol</th>\n",
              "      <th>sysBP</th>\n",
              "      <th>diaBP</th>\n",
              "      <th>BMI</th>\n",
              "      <th>heartRate</th>\n",
              "      <th>glucose</th>\n",
              "      <th>TenYearCHD</th>\n",
              "    </tr>\n",
              "  </thead>\n",
              "  <tbody>\n",
              "    <tr>\n",
              "      <th>0</th>\n",
              "      <td>0</td>\n",
              "      <td>64</td>\n",
              "      <td>2.0</td>\n",
              "      <td>F</td>\n",
              "      <td>YES</td>\n",
              "      <td>3.0</td>\n",
              "      <td>0.0</td>\n",
              "      <td>0</td>\n",
              "      <td>0</td>\n",
              "      <td>0</td>\n",
              "      <td>221.0</td>\n",
              "      <td>148.0</td>\n",
              "      <td>85.0</td>\n",
              "      <td>NaN</td>\n",
              "      <td>90.0</td>\n",
              "      <td>80.0</td>\n",
              "      <td>1</td>\n",
              "    </tr>\n",
              "    <tr>\n",
              "      <th>1</th>\n",
              "      <td>1</td>\n",
              "      <td>36</td>\n",
              "      <td>4.0</td>\n",
              "      <td>M</td>\n",
              "      <td>NO</td>\n",
              "      <td>0.0</td>\n",
              "      <td>0.0</td>\n",
              "      <td>0</td>\n",
              "      <td>1</td>\n",
              "      <td>0</td>\n",
              "      <td>212.0</td>\n",
              "      <td>168.0</td>\n",
              "      <td>98.0</td>\n",
              "      <td>29.77</td>\n",
              "      <td>72.0</td>\n",
              "      <td>75.0</td>\n",
              "      <td>0</td>\n",
              "    </tr>\n",
              "    <tr>\n",
              "      <th>2</th>\n",
              "      <td>2</td>\n",
              "      <td>46</td>\n",
              "      <td>1.0</td>\n",
              "      <td>F</td>\n",
              "      <td>YES</td>\n",
              "      <td>10.0</td>\n",
              "      <td>0.0</td>\n",
              "      <td>0</td>\n",
              "      <td>0</td>\n",
              "      <td>0</td>\n",
              "      <td>250.0</td>\n",
              "      <td>116.0</td>\n",
              "      <td>71.0</td>\n",
              "      <td>20.35</td>\n",
              "      <td>88.0</td>\n",
              "      <td>94.0</td>\n",
              "      <td>0</td>\n",
              "    </tr>\n",
              "    <tr>\n",
              "      <th>3</th>\n",
              "      <td>3</td>\n",
              "      <td>50</td>\n",
              "      <td>1.0</td>\n",
              "      <td>M</td>\n",
              "      <td>YES</td>\n",
              "      <td>20.0</td>\n",
              "      <td>0.0</td>\n",
              "      <td>0</td>\n",
              "      <td>1</td>\n",
              "      <td>0</td>\n",
              "      <td>233.0</td>\n",
              "      <td>158.0</td>\n",
              "      <td>88.0</td>\n",
              "      <td>28.26</td>\n",
              "      <td>68.0</td>\n",
              "      <td>94.0</td>\n",
              "      <td>1</td>\n",
              "    </tr>\n",
              "    <tr>\n",
              "      <th>4</th>\n",
              "      <td>4</td>\n",
              "      <td>64</td>\n",
              "      <td>1.0</td>\n",
              "      <td>F</td>\n",
              "      <td>YES</td>\n",
              "      <td>30.0</td>\n",
              "      <td>0.0</td>\n",
              "      <td>0</td>\n",
              "      <td>0</td>\n",
              "      <td>0</td>\n",
              "      <td>241.0</td>\n",
              "      <td>136.5</td>\n",
              "      <td>85.0</td>\n",
              "      <td>26.42</td>\n",
              "      <td>70.0</td>\n",
              "      <td>77.0</td>\n",
              "      <td>0</td>\n",
              "    </tr>\n",
              "  </tbody>\n",
              "</table>\n",
              "</div>\n",
              "      <button class=\"colab-df-convert\" onclick=\"convertToInteractive('df-43f7ffb4-9b11-4543-9ac7-1e290050d86b')\"\n",
              "              title=\"Convert this dataframe to an interactive table.\"\n",
              "              style=\"display:none;\">\n",
              "        \n",
              "  <svg xmlns=\"http://www.w3.org/2000/svg\" height=\"24px\"viewBox=\"0 0 24 24\"\n",
              "       width=\"24px\">\n",
              "    <path d=\"M0 0h24v24H0V0z\" fill=\"none\"/>\n",
              "    <path d=\"M18.56 5.44l.94 2.06.94-2.06 2.06-.94-2.06-.94-.94-2.06-.94 2.06-2.06.94zm-11 1L8.5 8.5l.94-2.06 2.06-.94-2.06-.94L8.5 2.5l-.94 2.06-2.06.94zm10 10l.94 2.06.94-2.06 2.06-.94-2.06-.94-.94-2.06-.94 2.06-2.06.94z\"/><path d=\"M17.41 7.96l-1.37-1.37c-.4-.4-.92-.59-1.43-.59-.52 0-1.04.2-1.43.59L10.3 9.45l-7.72 7.72c-.78.78-.78 2.05 0 2.83L4 21.41c.39.39.9.59 1.41.59.51 0 1.02-.2 1.41-.59l7.78-7.78 2.81-2.81c.8-.78.8-2.07 0-2.86zM5.41 20L4 18.59l7.72-7.72 1.47 1.35L5.41 20z\"/>\n",
              "  </svg>\n",
              "      </button>\n",
              "      \n",
              "  <style>\n",
              "    .colab-df-container {\n",
              "      display:flex;\n",
              "      flex-wrap:wrap;\n",
              "      gap: 12px;\n",
              "    }\n",
              "\n",
              "    .colab-df-convert {\n",
              "      background-color: #E8F0FE;\n",
              "      border: none;\n",
              "      border-radius: 50%;\n",
              "      cursor: pointer;\n",
              "      display: none;\n",
              "      fill: #1967D2;\n",
              "      height: 32px;\n",
              "      padding: 0 0 0 0;\n",
              "      width: 32px;\n",
              "    }\n",
              "\n",
              "    .colab-df-convert:hover {\n",
              "      background-color: #E2EBFA;\n",
              "      box-shadow: 0px 1px 2px rgba(60, 64, 67, 0.3), 0px 1px 3px 1px rgba(60, 64, 67, 0.15);\n",
              "      fill: #174EA6;\n",
              "    }\n",
              "\n",
              "    [theme=dark] .colab-df-convert {\n",
              "      background-color: #3B4455;\n",
              "      fill: #D2E3FC;\n",
              "    }\n",
              "\n",
              "    [theme=dark] .colab-df-convert:hover {\n",
              "      background-color: #434B5C;\n",
              "      box-shadow: 0px 1px 3px 1px rgba(0, 0, 0, 0.15);\n",
              "      filter: drop-shadow(0px 1px 2px rgba(0, 0, 0, 0.3));\n",
              "      fill: #FFFFFF;\n",
              "    }\n",
              "  </style>\n",
              "\n",
              "      <script>\n",
              "        const buttonEl =\n",
              "          document.querySelector('#df-43f7ffb4-9b11-4543-9ac7-1e290050d86b button.colab-df-convert');\n",
              "        buttonEl.style.display =\n",
              "          google.colab.kernel.accessAllowed ? 'block' : 'none';\n",
              "\n",
              "        async function convertToInteractive(key) {\n",
              "          const element = document.querySelector('#df-43f7ffb4-9b11-4543-9ac7-1e290050d86b');\n",
              "          const dataTable =\n",
              "            await google.colab.kernel.invokeFunction('convertToInteractive',\n",
              "                                                     [key], {});\n",
              "          if (!dataTable) return;\n",
              "\n",
              "          const docLinkHtml = 'Like what you see? Visit the ' +\n",
              "            '<a target=\"_blank\" href=https://colab.research.google.com/notebooks/data_table.ipynb>data table notebook</a>'\n",
              "            + ' to learn more about interactive tables.';\n",
              "          element.innerHTML = '';\n",
              "          dataTable['output_type'] = 'display_data';\n",
              "          await google.colab.output.renderOutput(dataTable, element);\n",
              "          const docLink = document.createElement('div');\n",
              "          docLink.innerHTML = docLinkHtml;\n",
              "          element.appendChild(docLink);\n",
              "        }\n",
              "      </script>\n",
              "    </div>\n",
              "  </div>\n",
              "  "
            ]
          },
          "metadata": {},
          "execution_count": 4
        }
      ],
      "source": [
        "cardio_df.head()"
      ]
    },
    {
      "cell_type": "code",
      "execution_count": 5,
      "metadata": {
        "id": "dYdNu91A6a8R",
        "colab": {
          "base_uri": "https://localhost:8080/",
          "height": 270
        },
        "outputId": "367de7ce-ec00-40c2-9d51-35cee55ad6d5"
      },
      "outputs": [
        {
          "output_type": "execute_result",
          "data": {
            "text/plain": [
              "        id  age  education sex is_smoking  cigsPerDay  BPMeds  \\\n",
              "3385  3385   60        1.0   F         NO         0.0     0.0   \n",
              "3386  3386   46        1.0   F         NO         0.0     0.0   \n",
              "3387  3387   44        3.0   M        YES         3.0     0.0   \n",
              "3388  3388   60        1.0   M         NO         0.0     NaN   \n",
              "3389  3389   54        3.0   F         NO         0.0     0.0   \n",
              "\n",
              "      prevalentStroke  prevalentHyp  diabetes  totChol  sysBP  diaBP    BMI  \\\n",
              "3385                0             0         0    261.0  123.5   79.0  29.28   \n",
              "3386                0             0         0    199.0  102.0   56.0  21.96   \n",
              "3387                0             1         0    352.0  164.0  119.0  28.92   \n",
              "3388                0             1         0    191.0  167.0  105.0  23.01   \n",
              "3389                0             0         0    288.0  124.0   77.0  29.88   \n",
              "\n",
              "      heartRate  glucose  TenYearCHD  \n",
              "3385       70.0    103.0           0  \n",
              "3386       80.0     84.0           0  \n",
              "3387       73.0     72.0           1  \n",
              "3388       80.0     85.0           0  \n",
              "3389       79.0     92.0           0  "
            ],
            "text/html": [
              "\n",
              "  <div id=\"df-8950417f-3561-4a47-b6b3-4438a6d70c8a\">\n",
              "    <div class=\"colab-df-container\">\n",
              "      <div>\n",
              "<style scoped>\n",
              "    .dataframe tbody tr th:only-of-type {\n",
              "        vertical-align: middle;\n",
              "    }\n",
              "\n",
              "    .dataframe tbody tr th {\n",
              "        vertical-align: top;\n",
              "    }\n",
              "\n",
              "    .dataframe thead th {\n",
              "        text-align: right;\n",
              "    }\n",
              "</style>\n",
              "<table border=\"1\" class=\"dataframe\">\n",
              "  <thead>\n",
              "    <tr style=\"text-align: right;\">\n",
              "      <th></th>\n",
              "      <th>id</th>\n",
              "      <th>age</th>\n",
              "      <th>education</th>\n",
              "      <th>sex</th>\n",
              "      <th>is_smoking</th>\n",
              "      <th>cigsPerDay</th>\n",
              "      <th>BPMeds</th>\n",
              "      <th>prevalentStroke</th>\n",
              "      <th>prevalentHyp</th>\n",
              "      <th>diabetes</th>\n",
              "      <th>totChol</th>\n",
              "      <th>sysBP</th>\n",
              "      <th>diaBP</th>\n",
              "      <th>BMI</th>\n",
              "      <th>heartRate</th>\n",
              "      <th>glucose</th>\n",
              "      <th>TenYearCHD</th>\n",
              "    </tr>\n",
              "  </thead>\n",
              "  <tbody>\n",
              "    <tr>\n",
              "      <th>3385</th>\n",
              "      <td>3385</td>\n",
              "      <td>60</td>\n",
              "      <td>1.0</td>\n",
              "      <td>F</td>\n",
              "      <td>NO</td>\n",
              "      <td>0.0</td>\n",
              "      <td>0.0</td>\n",
              "      <td>0</td>\n",
              "      <td>0</td>\n",
              "      <td>0</td>\n",
              "      <td>261.0</td>\n",
              "      <td>123.5</td>\n",
              "      <td>79.0</td>\n",
              "      <td>29.28</td>\n",
              "      <td>70.0</td>\n",
              "      <td>103.0</td>\n",
              "      <td>0</td>\n",
              "    </tr>\n",
              "    <tr>\n",
              "      <th>3386</th>\n",
              "      <td>3386</td>\n",
              "      <td>46</td>\n",
              "      <td>1.0</td>\n",
              "      <td>F</td>\n",
              "      <td>NO</td>\n",
              "      <td>0.0</td>\n",
              "      <td>0.0</td>\n",
              "      <td>0</td>\n",
              "      <td>0</td>\n",
              "      <td>0</td>\n",
              "      <td>199.0</td>\n",
              "      <td>102.0</td>\n",
              "      <td>56.0</td>\n",
              "      <td>21.96</td>\n",
              "      <td>80.0</td>\n",
              "      <td>84.0</td>\n",
              "      <td>0</td>\n",
              "    </tr>\n",
              "    <tr>\n",
              "      <th>3387</th>\n",
              "      <td>3387</td>\n",
              "      <td>44</td>\n",
              "      <td>3.0</td>\n",
              "      <td>M</td>\n",
              "      <td>YES</td>\n",
              "      <td>3.0</td>\n",
              "      <td>0.0</td>\n",
              "      <td>0</td>\n",
              "      <td>1</td>\n",
              "      <td>0</td>\n",
              "      <td>352.0</td>\n",
              "      <td>164.0</td>\n",
              "      <td>119.0</td>\n",
              "      <td>28.92</td>\n",
              "      <td>73.0</td>\n",
              "      <td>72.0</td>\n",
              "      <td>1</td>\n",
              "    </tr>\n",
              "    <tr>\n",
              "      <th>3388</th>\n",
              "      <td>3388</td>\n",
              "      <td>60</td>\n",
              "      <td>1.0</td>\n",
              "      <td>M</td>\n",
              "      <td>NO</td>\n",
              "      <td>0.0</td>\n",
              "      <td>NaN</td>\n",
              "      <td>0</td>\n",
              "      <td>1</td>\n",
              "      <td>0</td>\n",
              "      <td>191.0</td>\n",
              "      <td>167.0</td>\n",
              "      <td>105.0</td>\n",
              "      <td>23.01</td>\n",
              "      <td>80.0</td>\n",
              "      <td>85.0</td>\n",
              "      <td>0</td>\n",
              "    </tr>\n",
              "    <tr>\n",
              "      <th>3389</th>\n",
              "      <td>3389</td>\n",
              "      <td>54</td>\n",
              "      <td>3.0</td>\n",
              "      <td>F</td>\n",
              "      <td>NO</td>\n",
              "      <td>0.0</td>\n",
              "      <td>0.0</td>\n",
              "      <td>0</td>\n",
              "      <td>0</td>\n",
              "      <td>0</td>\n",
              "      <td>288.0</td>\n",
              "      <td>124.0</td>\n",
              "      <td>77.0</td>\n",
              "      <td>29.88</td>\n",
              "      <td>79.0</td>\n",
              "      <td>92.0</td>\n",
              "      <td>0</td>\n",
              "    </tr>\n",
              "  </tbody>\n",
              "</table>\n",
              "</div>\n",
              "      <button class=\"colab-df-convert\" onclick=\"convertToInteractive('df-8950417f-3561-4a47-b6b3-4438a6d70c8a')\"\n",
              "              title=\"Convert this dataframe to an interactive table.\"\n",
              "              style=\"display:none;\">\n",
              "        \n",
              "  <svg xmlns=\"http://www.w3.org/2000/svg\" height=\"24px\"viewBox=\"0 0 24 24\"\n",
              "       width=\"24px\">\n",
              "    <path d=\"M0 0h24v24H0V0z\" fill=\"none\"/>\n",
              "    <path d=\"M18.56 5.44l.94 2.06.94-2.06 2.06-.94-2.06-.94-.94-2.06-.94 2.06-2.06.94zm-11 1L8.5 8.5l.94-2.06 2.06-.94-2.06-.94L8.5 2.5l-.94 2.06-2.06.94zm10 10l.94 2.06.94-2.06 2.06-.94-2.06-.94-.94-2.06-.94 2.06-2.06.94z\"/><path d=\"M17.41 7.96l-1.37-1.37c-.4-.4-.92-.59-1.43-.59-.52 0-1.04.2-1.43.59L10.3 9.45l-7.72 7.72c-.78.78-.78 2.05 0 2.83L4 21.41c.39.39.9.59 1.41.59.51 0 1.02-.2 1.41-.59l7.78-7.78 2.81-2.81c.8-.78.8-2.07 0-2.86zM5.41 20L4 18.59l7.72-7.72 1.47 1.35L5.41 20z\"/>\n",
              "  </svg>\n",
              "      </button>\n",
              "      \n",
              "  <style>\n",
              "    .colab-df-container {\n",
              "      display:flex;\n",
              "      flex-wrap:wrap;\n",
              "      gap: 12px;\n",
              "    }\n",
              "\n",
              "    .colab-df-convert {\n",
              "      background-color: #E8F0FE;\n",
              "      border: none;\n",
              "      border-radius: 50%;\n",
              "      cursor: pointer;\n",
              "      display: none;\n",
              "      fill: #1967D2;\n",
              "      height: 32px;\n",
              "      padding: 0 0 0 0;\n",
              "      width: 32px;\n",
              "    }\n",
              "\n",
              "    .colab-df-convert:hover {\n",
              "      background-color: #E2EBFA;\n",
              "      box-shadow: 0px 1px 2px rgba(60, 64, 67, 0.3), 0px 1px 3px 1px rgba(60, 64, 67, 0.15);\n",
              "      fill: #174EA6;\n",
              "    }\n",
              "\n",
              "    [theme=dark] .colab-df-convert {\n",
              "      background-color: #3B4455;\n",
              "      fill: #D2E3FC;\n",
              "    }\n",
              "\n",
              "    [theme=dark] .colab-df-convert:hover {\n",
              "      background-color: #434B5C;\n",
              "      box-shadow: 0px 1px 3px 1px rgba(0, 0, 0, 0.15);\n",
              "      filter: drop-shadow(0px 1px 2px rgba(0, 0, 0, 0.3));\n",
              "      fill: #FFFFFF;\n",
              "    }\n",
              "  </style>\n",
              "\n",
              "      <script>\n",
              "        const buttonEl =\n",
              "          document.querySelector('#df-8950417f-3561-4a47-b6b3-4438a6d70c8a button.colab-df-convert');\n",
              "        buttonEl.style.display =\n",
              "          google.colab.kernel.accessAllowed ? 'block' : 'none';\n",
              "\n",
              "        async function convertToInteractive(key) {\n",
              "          const element = document.querySelector('#df-8950417f-3561-4a47-b6b3-4438a6d70c8a');\n",
              "          const dataTable =\n",
              "            await google.colab.kernel.invokeFunction('convertToInteractive',\n",
              "                                                     [key], {});\n",
              "          if (!dataTable) return;\n",
              "\n",
              "          const docLinkHtml = 'Like what you see? Visit the ' +\n",
              "            '<a target=\"_blank\" href=https://colab.research.google.com/notebooks/data_table.ipynb>data table notebook</a>'\n",
              "            + ' to learn more about interactive tables.';\n",
              "          element.innerHTML = '';\n",
              "          dataTable['output_type'] = 'display_data';\n",
              "          await google.colab.output.renderOutput(dataTable, element);\n",
              "          const docLink = document.createElement('div');\n",
              "          docLink.innerHTML = docLinkHtml;\n",
              "          element.appendChild(docLink);\n",
              "        }\n",
              "      </script>\n",
              "    </div>\n",
              "  </div>\n",
              "  "
            ]
          },
          "metadata": {},
          "execution_count": 5
        }
      ],
      "source": [
        "cardio_df.tail()"
      ]
    },
    {
      "cell_type": "code",
      "execution_count": 6,
      "metadata": {
        "id": "FiLjuwmqYoJJ",
        "colab": {
          "base_uri": "https://localhost:8080/"
        },
        "outputId": "1766c625-a4fe-45fb-f98f-225a97afe479"
      },
      "outputs": [
        {
          "output_type": "execute_result",
          "data": {
            "text/plain": [
              "Index(['id', 'age', 'education', 'sex', 'is_smoking', 'cigsPerDay', 'BPMeds',\n",
              "       'prevalentStroke', 'prevalentHyp', 'diabetes', 'totChol', 'sysBP',\n",
              "       'diaBP', 'BMI', 'heartRate', 'glucose', 'TenYearCHD'],\n",
              "      dtype='object')"
            ]
          },
          "metadata": {},
          "execution_count": 6
        }
      ],
      "source": [
        "cardio_df.columns\n"
      ]
    },
    {
      "cell_type": "code",
      "execution_count": 7,
      "metadata": {
        "id": "WSU9QHky_cGd",
        "colab": {
          "base_uri": "https://localhost:8080/"
        },
        "outputId": "19375c1e-4db9-42b8-c9cb-71a46edfca5d"
      },
      "outputs": [
        {
          "output_type": "stream",
          "name": "stdout",
          "text": [
            "<class 'pandas.core.frame.DataFrame'>\n",
            "RangeIndex: 3390 entries, 0 to 3389\n",
            "Data columns (total 17 columns):\n",
            " #   Column           Non-Null Count  Dtype  \n",
            "---  ------           --------------  -----  \n",
            " 0   id               3390 non-null   int64  \n",
            " 1   age              3390 non-null   int64  \n",
            " 2   education        3303 non-null   float64\n",
            " 3   sex              3390 non-null   object \n",
            " 4   is_smoking       3390 non-null   object \n",
            " 5   cigsPerDay       3368 non-null   float64\n",
            " 6   BPMeds           3346 non-null   float64\n",
            " 7   prevalentStroke  3390 non-null   int64  \n",
            " 8   prevalentHyp     3390 non-null   int64  \n",
            " 9   diabetes         3390 non-null   int64  \n",
            " 10  totChol          3352 non-null   float64\n",
            " 11  sysBP            3390 non-null   float64\n",
            " 12  diaBP            3390 non-null   float64\n",
            " 13  BMI              3376 non-null   float64\n",
            " 14  heartRate        3389 non-null   float64\n",
            " 15  glucose          3086 non-null   float64\n",
            " 16  TenYearCHD       3390 non-null   int64  \n",
            "dtypes: float64(9), int64(6), object(2)\n",
            "memory usage: 450.4+ KB\n"
          ]
        }
      ],
      "source": [
        "cardio_df.info()"
      ]
    },
    {
      "cell_type": "code",
      "execution_count": 8,
      "metadata": {
        "id": "uDHC9ygr_mSd",
        "colab": {
          "base_uri": "https://localhost:8080/",
          "height": 364
        },
        "outputId": "ceaa1f30-946f-4a27-e499-a61c3e63ad73"
      },
      "outputs": [
        {
          "output_type": "execute_result",
          "data": {
            "text/plain": [
              "                id          age    education   cigsPerDay       BPMeds  \\\n",
              "count  3390.000000  3390.000000  3303.000000  3368.000000  3346.000000   \n",
              "mean   1694.500000    49.542183     1.970936     9.069477     0.029886   \n",
              "std     978.753033     8.592878     1.019081    11.879078     0.170299   \n",
              "min       0.000000    32.000000     1.000000     0.000000     0.000000   \n",
              "25%     847.250000    42.000000     1.000000     0.000000     0.000000   \n",
              "50%    1694.500000    49.000000     2.000000     0.000000     0.000000   \n",
              "75%    2541.750000    56.000000     3.000000    20.000000     0.000000   \n",
              "max    3389.000000    70.000000     4.000000    70.000000     1.000000   \n",
              "\n",
              "       prevalentStroke  prevalentHyp     diabetes      totChol       sysBP  \\\n",
              "count      3390.000000   3390.000000  3390.000000  3352.000000  3390.00000   \n",
              "mean          0.006490      0.315339     0.025664   237.074284   132.60118   \n",
              "std           0.080309      0.464719     0.158153    45.247430    22.29203   \n",
              "min           0.000000      0.000000     0.000000   107.000000    83.50000   \n",
              "25%           0.000000      0.000000     0.000000   206.000000   117.00000   \n",
              "50%           0.000000      0.000000     0.000000   234.000000   128.50000   \n",
              "75%           0.000000      1.000000     0.000000   264.000000   144.00000   \n",
              "max           1.000000      1.000000     1.000000   696.000000   295.00000   \n",
              "\n",
              "             diaBP          BMI    heartRate      glucose   TenYearCHD  \n",
              "count  3390.000000  3376.000000  3389.000000  3086.000000  3390.000000  \n",
              "mean     82.883038    25.794964    75.977279    82.086520     0.150737  \n",
              "std      12.023581     4.115449    11.971868    24.244753     0.357846  \n",
              "min      48.000000    15.960000    45.000000    40.000000     0.000000  \n",
              "25%      74.500000    23.020000    68.000000    71.000000     0.000000  \n",
              "50%      82.000000    25.380000    75.000000    78.000000     0.000000  \n",
              "75%      90.000000    28.040000    83.000000    87.000000     0.000000  \n",
              "max     142.500000    56.800000   143.000000   394.000000     1.000000  "
            ],
            "text/html": [
              "\n",
              "  <div id=\"df-742c245b-2924-4894-a6ca-34314e5c5ee4\">\n",
              "    <div class=\"colab-df-container\">\n",
              "      <div>\n",
              "<style scoped>\n",
              "    .dataframe tbody tr th:only-of-type {\n",
              "        vertical-align: middle;\n",
              "    }\n",
              "\n",
              "    .dataframe tbody tr th {\n",
              "        vertical-align: top;\n",
              "    }\n",
              "\n",
              "    .dataframe thead th {\n",
              "        text-align: right;\n",
              "    }\n",
              "</style>\n",
              "<table border=\"1\" class=\"dataframe\">\n",
              "  <thead>\n",
              "    <tr style=\"text-align: right;\">\n",
              "      <th></th>\n",
              "      <th>id</th>\n",
              "      <th>age</th>\n",
              "      <th>education</th>\n",
              "      <th>cigsPerDay</th>\n",
              "      <th>BPMeds</th>\n",
              "      <th>prevalentStroke</th>\n",
              "      <th>prevalentHyp</th>\n",
              "      <th>diabetes</th>\n",
              "      <th>totChol</th>\n",
              "      <th>sysBP</th>\n",
              "      <th>diaBP</th>\n",
              "      <th>BMI</th>\n",
              "      <th>heartRate</th>\n",
              "      <th>glucose</th>\n",
              "      <th>TenYearCHD</th>\n",
              "    </tr>\n",
              "  </thead>\n",
              "  <tbody>\n",
              "    <tr>\n",
              "      <th>count</th>\n",
              "      <td>3390.000000</td>\n",
              "      <td>3390.000000</td>\n",
              "      <td>3303.000000</td>\n",
              "      <td>3368.000000</td>\n",
              "      <td>3346.000000</td>\n",
              "      <td>3390.000000</td>\n",
              "      <td>3390.000000</td>\n",
              "      <td>3390.000000</td>\n",
              "      <td>3352.000000</td>\n",
              "      <td>3390.00000</td>\n",
              "      <td>3390.000000</td>\n",
              "      <td>3376.000000</td>\n",
              "      <td>3389.000000</td>\n",
              "      <td>3086.000000</td>\n",
              "      <td>3390.000000</td>\n",
              "    </tr>\n",
              "    <tr>\n",
              "      <th>mean</th>\n",
              "      <td>1694.500000</td>\n",
              "      <td>49.542183</td>\n",
              "      <td>1.970936</td>\n",
              "      <td>9.069477</td>\n",
              "      <td>0.029886</td>\n",
              "      <td>0.006490</td>\n",
              "      <td>0.315339</td>\n",
              "      <td>0.025664</td>\n",
              "      <td>237.074284</td>\n",
              "      <td>132.60118</td>\n",
              "      <td>82.883038</td>\n",
              "      <td>25.794964</td>\n",
              "      <td>75.977279</td>\n",
              "      <td>82.086520</td>\n",
              "      <td>0.150737</td>\n",
              "    </tr>\n",
              "    <tr>\n",
              "      <th>std</th>\n",
              "      <td>978.753033</td>\n",
              "      <td>8.592878</td>\n",
              "      <td>1.019081</td>\n",
              "      <td>11.879078</td>\n",
              "      <td>0.170299</td>\n",
              "      <td>0.080309</td>\n",
              "      <td>0.464719</td>\n",
              "      <td>0.158153</td>\n",
              "      <td>45.247430</td>\n",
              "      <td>22.29203</td>\n",
              "      <td>12.023581</td>\n",
              "      <td>4.115449</td>\n",
              "      <td>11.971868</td>\n",
              "      <td>24.244753</td>\n",
              "      <td>0.357846</td>\n",
              "    </tr>\n",
              "    <tr>\n",
              "      <th>min</th>\n",
              "      <td>0.000000</td>\n",
              "      <td>32.000000</td>\n",
              "      <td>1.000000</td>\n",
              "      <td>0.000000</td>\n",
              "      <td>0.000000</td>\n",
              "      <td>0.000000</td>\n",
              "      <td>0.000000</td>\n",
              "      <td>0.000000</td>\n",
              "      <td>107.000000</td>\n",
              "      <td>83.50000</td>\n",
              "      <td>48.000000</td>\n",
              "      <td>15.960000</td>\n",
              "      <td>45.000000</td>\n",
              "      <td>40.000000</td>\n",
              "      <td>0.000000</td>\n",
              "    </tr>\n",
              "    <tr>\n",
              "      <th>25%</th>\n",
              "      <td>847.250000</td>\n",
              "      <td>42.000000</td>\n",
              "      <td>1.000000</td>\n",
              "      <td>0.000000</td>\n",
              "      <td>0.000000</td>\n",
              "      <td>0.000000</td>\n",
              "      <td>0.000000</td>\n",
              "      <td>0.000000</td>\n",
              "      <td>206.000000</td>\n",
              "      <td>117.00000</td>\n",
              "      <td>74.500000</td>\n",
              "      <td>23.020000</td>\n",
              "      <td>68.000000</td>\n",
              "      <td>71.000000</td>\n",
              "      <td>0.000000</td>\n",
              "    </tr>\n",
              "    <tr>\n",
              "      <th>50%</th>\n",
              "      <td>1694.500000</td>\n",
              "      <td>49.000000</td>\n",
              "      <td>2.000000</td>\n",
              "      <td>0.000000</td>\n",
              "      <td>0.000000</td>\n",
              "      <td>0.000000</td>\n",
              "      <td>0.000000</td>\n",
              "      <td>0.000000</td>\n",
              "      <td>234.000000</td>\n",
              "      <td>128.50000</td>\n",
              "      <td>82.000000</td>\n",
              "      <td>25.380000</td>\n",
              "      <td>75.000000</td>\n",
              "      <td>78.000000</td>\n",
              "      <td>0.000000</td>\n",
              "    </tr>\n",
              "    <tr>\n",
              "      <th>75%</th>\n",
              "      <td>2541.750000</td>\n",
              "      <td>56.000000</td>\n",
              "      <td>3.000000</td>\n",
              "      <td>20.000000</td>\n",
              "      <td>0.000000</td>\n",
              "      <td>0.000000</td>\n",
              "      <td>1.000000</td>\n",
              "      <td>0.000000</td>\n",
              "      <td>264.000000</td>\n",
              "      <td>144.00000</td>\n",
              "      <td>90.000000</td>\n",
              "      <td>28.040000</td>\n",
              "      <td>83.000000</td>\n",
              "      <td>87.000000</td>\n",
              "      <td>0.000000</td>\n",
              "    </tr>\n",
              "    <tr>\n",
              "      <th>max</th>\n",
              "      <td>3389.000000</td>\n",
              "      <td>70.000000</td>\n",
              "      <td>4.000000</td>\n",
              "      <td>70.000000</td>\n",
              "      <td>1.000000</td>\n",
              "      <td>1.000000</td>\n",
              "      <td>1.000000</td>\n",
              "      <td>1.000000</td>\n",
              "      <td>696.000000</td>\n",
              "      <td>295.00000</td>\n",
              "      <td>142.500000</td>\n",
              "      <td>56.800000</td>\n",
              "      <td>143.000000</td>\n",
              "      <td>394.000000</td>\n",
              "      <td>1.000000</td>\n",
              "    </tr>\n",
              "  </tbody>\n",
              "</table>\n",
              "</div>\n",
              "      <button class=\"colab-df-convert\" onclick=\"convertToInteractive('df-742c245b-2924-4894-a6ca-34314e5c5ee4')\"\n",
              "              title=\"Convert this dataframe to an interactive table.\"\n",
              "              style=\"display:none;\">\n",
              "        \n",
              "  <svg xmlns=\"http://www.w3.org/2000/svg\" height=\"24px\"viewBox=\"0 0 24 24\"\n",
              "       width=\"24px\">\n",
              "    <path d=\"M0 0h24v24H0V0z\" fill=\"none\"/>\n",
              "    <path d=\"M18.56 5.44l.94 2.06.94-2.06 2.06-.94-2.06-.94-.94-2.06-.94 2.06-2.06.94zm-11 1L8.5 8.5l.94-2.06 2.06-.94-2.06-.94L8.5 2.5l-.94 2.06-2.06.94zm10 10l.94 2.06.94-2.06 2.06-.94-2.06-.94-.94-2.06-.94 2.06-2.06.94z\"/><path d=\"M17.41 7.96l-1.37-1.37c-.4-.4-.92-.59-1.43-.59-.52 0-1.04.2-1.43.59L10.3 9.45l-7.72 7.72c-.78.78-.78 2.05 0 2.83L4 21.41c.39.39.9.59 1.41.59.51 0 1.02-.2 1.41-.59l7.78-7.78 2.81-2.81c.8-.78.8-2.07 0-2.86zM5.41 20L4 18.59l7.72-7.72 1.47 1.35L5.41 20z\"/>\n",
              "  </svg>\n",
              "      </button>\n",
              "      \n",
              "  <style>\n",
              "    .colab-df-container {\n",
              "      display:flex;\n",
              "      flex-wrap:wrap;\n",
              "      gap: 12px;\n",
              "    }\n",
              "\n",
              "    .colab-df-convert {\n",
              "      background-color: #E8F0FE;\n",
              "      border: none;\n",
              "      border-radius: 50%;\n",
              "      cursor: pointer;\n",
              "      display: none;\n",
              "      fill: #1967D2;\n",
              "      height: 32px;\n",
              "      padding: 0 0 0 0;\n",
              "      width: 32px;\n",
              "    }\n",
              "\n",
              "    .colab-df-convert:hover {\n",
              "      background-color: #E2EBFA;\n",
              "      box-shadow: 0px 1px 2px rgba(60, 64, 67, 0.3), 0px 1px 3px 1px rgba(60, 64, 67, 0.15);\n",
              "      fill: #174EA6;\n",
              "    }\n",
              "\n",
              "    [theme=dark] .colab-df-convert {\n",
              "      background-color: #3B4455;\n",
              "      fill: #D2E3FC;\n",
              "    }\n",
              "\n",
              "    [theme=dark] .colab-df-convert:hover {\n",
              "      background-color: #434B5C;\n",
              "      box-shadow: 0px 1px 3px 1px rgba(0, 0, 0, 0.15);\n",
              "      filter: drop-shadow(0px 1px 2px rgba(0, 0, 0, 0.3));\n",
              "      fill: #FFFFFF;\n",
              "    }\n",
              "  </style>\n",
              "\n",
              "      <script>\n",
              "        const buttonEl =\n",
              "          document.querySelector('#df-742c245b-2924-4894-a6ca-34314e5c5ee4 button.colab-df-convert');\n",
              "        buttonEl.style.display =\n",
              "          google.colab.kernel.accessAllowed ? 'block' : 'none';\n",
              "\n",
              "        async function convertToInteractive(key) {\n",
              "          const element = document.querySelector('#df-742c245b-2924-4894-a6ca-34314e5c5ee4');\n",
              "          const dataTable =\n",
              "            await google.colab.kernel.invokeFunction('convertToInteractive',\n",
              "                                                     [key], {});\n",
              "          if (!dataTable) return;\n",
              "\n",
              "          const docLinkHtml = 'Like what you see? Visit the ' +\n",
              "            '<a target=\"_blank\" href=https://colab.research.google.com/notebooks/data_table.ipynb>data table notebook</a>'\n",
              "            + ' to learn more about interactive tables.';\n",
              "          element.innerHTML = '';\n",
              "          dataTable['output_type'] = 'display_data';\n",
              "          await google.colab.output.renderOutput(dataTable, element);\n",
              "          const docLink = document.createElement('div');\n",
              "          docLink.innerHTML = docLinkHtml;\n",
              "          element.appendChild(docLink);\n",
              "        }\n",
              "      </script>\n",
              "    </div>\n",
              "  </div>\n",
              "  "
            ]
          },
          "metadata": {},
          "execution_count": 8
        }
      ],
      "source": [
        "cardio_df.describe()"
      ]
    },
    {
      "cell_type": "code",
      "execution_count": 9,
      "metadata": {
        "id": "rEzhFBG6_peZ",
        "colab": {
          "base_uri": "https://localhost:8080/"
        },
        "outputId": "4cbf771a-709e-4b85-eb3d-df63091b68c8"
      },
      "outputs": [
        {
          "output_type": "execute_result",
          "data": {
            "text/plain": [
              "(3390, 17)"
            ]
          },
          "metadata": {},
          "execution_count": 9
        }
      ],
      "source": [
        "(cardio_df.shape)"
      ]
    },
    {
      "cell_type": "code",
      "execution_count": 10,
      "metadata": {
        "id": "NviO_FNgfs5I",
        "colab": {
          "base_uri": "https://localhost:8080/"
        },
        "outputId": "dbfe7c8b-2e1d-433d-9b99-a89ba79f6304"
      },
      "outputs": [
        {
          "output_type": "execute_result",
          "data": {
            "text/plain": [
              "id                   0\n",
              "age                  0\n",
              "education           87\n",
              "sex                  0\n",
              "is_smoking           0\n",
              "cigsPerDay          22\n",
              "BPMeds              44\n",
              "prevalentStroke      0\n",
              "prevalentHyp         0\n",
              "diabetes             0\n",
              "totChol             38\n",
              "sysBP                0\n",
              "diaBP                0\n",
              "BMI                 14\n",
              "heartRate            1\n",
              "glucose            304\n",
              "TenYearCHD           0\n",
              "dtype: int64"
            ]
          },
          "metadata": {},
          "execution_count": 10
        }
      ],
      "source": [
        "cardio_df.isna().sum()\n",
        "cardio_df.isnull().sum()"
      ]
    },
    {
      "cell_type": "code",
      "source": [
        "cardio_df['sex'] = cardio_df['sex'].replace({'F':1,'M':0})\n",
        "cardio_df['is_smoking'] = cardio_df['is_smoking'].replace({'YES':1,'NO':0})"
      ],
      "metadata": {
        "id": "9BHhCu8N-VuQ"
      },
      "execution_count": 11,
      "outputs": []
    },
    {
      "cell_type": "code",
      "source": [
        "cardio_df.isna().sum()"
      ],
      "metadata": {
        "colab": {
          "base_uri": "https://localhost:8080/"
        },
        "id": "FtFNMVDO-kVq",
        "outputId": "1ac71dd6-bc80-4a8a-c132-ce864b6a5eb3"
      },
      "execution_count": 13,
      "outputs": [
        {
          "output_type": "execute_result",
          "data": {
            "text/plain": [
              "id                   0\n",
              "age                  0\n",
              "education           87\n",
              "sex                  0\n",
              "is_smoking           0\n",
              "cigsPerDay          22\n",
              "BPMeds              44\n",
              "prevalentStroke      0\n",
              "prevalentHyp         0\n",
              "diabetes             0\n",
              "totChol             38\n",
              "sysBP                0\n",
              "diaBP                0\n",
              "BMI                 14\n",
              "heartRate            1\n",
              "glucose            304\n",
              "TenYearCHD           0\n",
              "dtype: int64"
            ]
          },
          "metadata": {},
          "execution_count": 13
        }
      ]
    },
    {
      "cell_type": "code",
      "source": [
        "cardio_df.drop(['id'],axis=1,inplace=True)"
      ],
      "metadata": {
        "id": "R-bZAkgrAy0T"
      },
      "execution_count": 14,
      "outputs": []
    },
    {
      "cell_type": "code",
      "source": [
        "def mode_fillna(df , columns):\n",
        "  ''' Null values of categorical columns are filled with the mode of the column'''\n",
        "  for column in columns:\n",
        "    df[column] = df[column].fillna(df[column].mode()[0])"
      ],
      "metadata": {
        "id": "QlNs9EAhbbVh"
      },
      "execution_count": 15,
      "outputs": []
    },
    {
      "cell_type": "code",
      "source": [
        "mode_fillna(df = cardio_df, columns = ['education','BPMeds'])"
      ],
      "metadata": {
        "id": "FhP0SQhUbh8U"
      },
      "execution_count": 16,
      "outputs": []
    },
    {
      "cell_type": "code",
      "source": [
        "def median_fillna(df, columns):\n",
        "  ''' Null values of continous columns are filled with the median of the column '''\n",
        "  for column in columns:\n",
        "    df[column] = df[column].fillna(df[column].median())"
      ],
      "metadata": {
        "id": "CGYRNfm0btvC"
      },
      "execution_count": 17,
      "outputs": []
    },
    {
      "cell_type": "code",
      "source": [
        "median_fillna(df = cardio_df, columns = ['cigsPerDay','totChol','BMI','heartRate','glucose'])"
      ],
      "metadata": {
        "id": "AvjEhyBDbz5i"
      },
      "execution_count": 18,
      "outputs": []
    },
    {
      "cell_type": "code",
      "source": [
        "cardio_df.isna().sum()"
      ],
      "metadata": {
        "colab": {
          "base_uri": "https://localhost:8080/"
        },
        "id": "Aqr-0MzWb4FS",
        "outputId": "0bf86f46-771a-4555-a23d-c3117744d208"
      },
      "execution_count": 20,
      "outputs": [
        {
          "output_type": "execute_result",
          "data": {
            "text/plain": [
              "age                0\n",
              "education          0\n",
              "sex                0\n",
              "is_smoking         0\n",
              "cigsPerDay         0\n",
              "BPMeds             0\n",
              "prevalentStroke    0\n",
              "prevalentHyp       0\n",
              "diabetes           0\n",
              "totChol            0\n",
              "sysBP              0\n",
              "diaBP              0\n",
              "BMI                0\n",
              "heartRate          0\n",
              "glucose            0\n",
              "TenYearCHD         0\n",
              "dtype: int64"
            ]
          },
          "metadata": {},
          "execution_count": 20
        }
      ]
    },
    {
      "cell_type": "code",
      "source": [
        "cardio_df.describe(include = 'all')"
      ],
      "metadata": {
        "colab": {
          "base_uri": "https://localhost:8080/",
          "height": 364
        },
        "id": "xfZVKnnYcEHe",
        "outputId": "20036eb5-f207-4d53-f47f-804587d67df0"
      },
      "execution_count": 21,
      "outputs": [
        {
          "output_type": "execute_result",
          "data": {
            "text/plain": [
              "               age    education          sex   is_smoking   cigsPerDay  \\\n",
              "count  3390.000000  3390.000000  3390.000000  3390.000000  3390.000000   \n",
              "mean     49.542183     1.946018     0.567257     0.497640     9.010619   \n",
              "std       8.592878     1.017568     0.495529     0.500068    11.862839   \n",
              "min      32.000000     1.000000     0.000000     0.000000     0.000000   \n",
              "25%      42.000000     1.000000     0.000000     0.000000     0.000000   \n",
              "50%      49.000000     2.000000     1.000000     0.000000     0.000000   \n",
              "75%      56.000000     3.000000     1.000000     1.000000    20.000000   \n",
              "max      70.000000     4.000000     1.000000     1.000000    70.000000   \n",
              "\n",
              "            BPMeds  prevalentStroke  prevalentHyp     diabetes      totChol  \\\n",
              "count  3390.000000      3390.000000   3390.000000  3390.000000  3390.000000   \n",
              "mean      0.029499         0.006490      0.315339     0.025664   237.039823   \n",
              "std       0.169224         0.080309      0.464719     0.158153    44.994205   \n",
              "min       0.000000         0.000000      0.000000     0.000000   107.000000   \n",
              "25%       0.000000         0.000000      0.000000     0.000000   206.000000   \n",
              "50%       0.000000         0.000000      0.000000     0.000000   234.000000   \n",
              "75%       0.000000         0.000000      1.000000     0.000000   264.000000   \n",
              "max       1.000000         1.000000      1.000000     1.000000   696.000000   \n",
              "\n",
              "            sysBP        diaBP          BMI    heartRate      glucose  \\\n",
              "count  3390.00000  3390.000000  3390.000000  3390.000000  3390.000000   \n",
              "mean    132.60118    82.883038    25.793251    75.976991    81.720059   \n",
              "std      22.29203    12.023581     4.107026    11.970114    23.161265   \n",
              "min      83.50000    48.000000    15.960000    45.000000    40.000000   \n",
              "25%     117.00000    74.500000    23.030000    68.000000    72.000000   \n",
              "50%     128.50000    82.000000    25.380000    75.000000    78.000000   \n",
              "75%     144.00000    90.000000    27.997500    83.000000    85.000000   \n",
              "max     295.00000   142.500000    56.800000   143.000000   394.000000   \n",
              "\n",
              "        TenYearCHD  \n",
              "count  3390.000000  \n",
              "mean      0.150737  \n",
              "std       0.357846  \n",
              "min       0.000000  \n",
              "25%       0.000000  \n",
              "50%       0.000000  \n",
              "75%       0.000000  \n",
              "max       1.000000  "
            ],
            "text/html": [
              "\n",
              "  <div id=\"df-c4d68f55-653a-458f-9c04-8deafa53c635\">\n",
              "    <div class=\"colab-df-container\">\n",
              "      <div>\n",
              "<style scoped>\n",
              "    .dataframe tbody tr th:only-of-type {\n",
              "        vertical-align: middle;\n",
              "    }\n",
              "\n",
              "    .dataframe tbody tr th {\n",
              "        vertical-align: top;\n",
              "    }\n",
              "\n",
              "    .dataframe thead th {\n",
              "        text-align: right;\n",
              "    }\n",
              "</style>\n",
              "<table border=\"1\" class=\"dataframe\">\n",
              "  <thead>\n",
              "    <tr style=\"text-align: right;\">\n",
              "      <th></th>\n",
              "      <th>age</th>\n",
              "      <th>education</th>\n",
              "      <th>sex</th>\n",
              "      <th>is_smoking</th>\n",
              "      <th>cigsPerDay</th>\n",
              "      <th>BPMeds</th>\n",
              "      <th>prevalentStroke</th>\n",
              "      <th>prevalentHyp</th>\n",
              "      <th>diabetes</th>\n",
              "      <th>totChol</th>\n",
              "      <th>sysBP</th>\n",
              "      <th>diaBP</th>\n",
              "      <th>BMI</th>\n",
              "      <th>heartRate</th>\n",
              "      <th>glucose</th>\n",
              "      <th>TenYearCHD</th>\n",
              "    </tr>\n",
              "  </thead>\n",
              "  <tbody>\n",
              "    <tr>\n",
              "      <th>count</th>\n",
              "      <td>3390.000000</td>\n",
              "      <td>3390.000000</td>\n",
              "      <td>3390.000000</td>\n",
              "      <td>3390.000000</td>\n",
              "      <td>3390.000000</td>\n",
              "      <td>3390.000000</td>\n",
              "      <td>3390.000000</td>\n",
              "      <td>3390.000000</td>\n",
              "      <td>3390.000000</td>\n",
              "      <td>3390.000000</td>\n",
              "      <td>3390.00000</td>\n",
              "      <td>3390.000000</td>\n",
              "      <td>3390.000000</td>\n",
              "      <td>3390.000000</td>\n",
              "      <td>3390.000000</td>\n",
              "      <td>3390.000000</td>\n",
              "    </tr>\n",
              "    <tr>\n",
              "      <th>mean</th>\n",
              "      <td>49.542183</td>\n",
              "      <td>1.946018</td>\n",
              "      <td>0.567257</td>\n",
              "      <td>0.497640</td>\n",
              "      <td>9.010619</td>\n",
              "      <td>0.029499</td>\n",
              "      <td>0.006490</td>\n",
              "      <td>0.315339</td>\n",
              "      <td>0.025664</td>\n",
              "      <td>237.039823</td>\n",
              "      <td>132.60118</td>\n",
              "      <td>82.883038</td>\n",
              "      <td>25.793251</td>\n",
              "      <td>75.976991</td>\n",
              "      <td>81.720059</td>\n",
              "      <td>0.150737</td>\n",
              "    </tr>\n",
              "    <tr>\n",
              "      <th>std</th>\n",
              "      <td>8.592878</td>\n",
              "      <td>1.017568</td>\n",
              "      <td>0.495529</td>\n",
              "      <td>0.500068</td>\n",
              "      <td>11.862839</td>\n",
              "      <td>0.169224</td>\n",
              "      <td>0.080309</td>\n",
              "      <td>0.464719</td>\n",
              "      <td>0.158153</td>\n",
              "      <td>44.994205</td>\n",
              "      <td>22.29203</td>\n",
              "      <td>12.023581</td>\n",
              "      <td>4.107026</td>\n",
              "      <td>11.970114</td>\n",
              "      <td>23.161265</td>\n",
              "      <td>0.357846</td>\n",
              "    </tr>\n",
              "    <tr>\n",
              "      <th>min</th>\n",
              "      <td>32.000000</td>\n",
              "      <td>1.000000</td>\n",
              "      <td>0.000000</td>\n",
              "      <td>0.000000</td>\n",
              "      <td>0.000000</td>\n",
              "      <td>0.000000</td>\n",
              "      <td>0.000000</td>\n",
              "      <td>0.000000</td>\n",
              "      <td>0.000000</td>\n",
              "      <td>107.000000</td>\n",
              "      <td>83.50000</td>\n",
              "      <td>48.000000</td>\n",
              "      <td>15.960000</td>\n",
              "      <td>45.000000</td>\n",
              "      <td>40.000000</td>\n",
              "      <td>0.000000</td>\n",
              "    </tr>\n",
              "    <tr>\n",
              "      <th>25%</th>\n",
              "      <td>42.000000</td>\n",
              "      <td>1.000000</td>\n",
              "      <td>0.000000</td>\n",
              "      <td>0.000000</td>\n",
              "      <td>0.000000</td>\n",
              "      <td>0.000000</td>\n",
              "      <td>0.000000</td>\n",
              "      <td>0.000000</td>\n",
              "      <td>0.000000</td>\n",
              "      <td>206.000000</td>\n",
              "      <td>117.00000</td>\n",
              "      <td>74.500000</td>\n",
              "      <td>23.030000</td>\n",
              "      <td>68.000000</td>\n",
              "      <td>72.000000</td>\n",
              "      <td>0.000000</td>\n",
              "    </tr>\n",
              "    <tr>\n",
              "      <th>50%</th>\n",
              "      <td>49.000000</td>\n",
              "      <td>2.000000</td>\n",
              "      <td>1.000000</td>\n",
              "      <td>0.000000</td>\n",
              "      <td>0.000000</td>\n",
              "      <td>0.000000</td>\n",
              "      <td>0.000000</td>\n",
              "      <td>0.000000</td>\n",
              "      <td>0.000000</td>\n",
              "      <td>234.000000</td>\n",
              "      <td>128.50000</td>\n",
              "      <td>82.000000</td>\n",
              "      <td>25.380000</td>\n",
              "      <td>75.000000</td>\n",
              "      <td>78.000000</td>\n",
              "      <td>0.000000</td>\n",
              "    </tr>\n",
              "    <tr>\n",
              "      <th>75%</th>\n",
              "      <td>56.000000</td>\n",
              "      <td>3.000000</td>\n",
              "      <td>1.000000</td>\n",
              "      <td>1.000000</td>\n",
              "      <td>20.000000</td>\n",
              "      <td>0.000000</td>\n",
              "      <td>0.000000</td>\n",
              "      <td>1.000000</td>\n",
              "      <td>0.000000</td>\n",
              "      <td>264.000000</td>\n",
              "      <td>144.00000</td>\n",
              "      <td>90.000000</td>\n",
              "      <td>27.997500</td>\n",
              "      <td>83.000000</td>\n",
              "      <td>85.000000</td>\n",
              "      <td>0.000000</td>\n",
              "    </tr>\n",
              "    <tr>\n",
              "      <th>max</th>\n",
              "      <td>70.000000</td>\n",
              "      <td>4.000000</td>\n",
              "      <td>1.000000</td>\n",
              "      <td>1.000000</td>\n",
              "      <td>70.000000</td>\n",
              "      <td>1.000000</td>\n",
              "      <td>1.000000</td>\n",
              "      <td>1.000000</td>\n",
              "      <td>1.000000</td>\n",
              "      <td>696.000000</td>\n",
              "      <td>295.00000</td>\n",
              "      <td>142.500000</td>\n",
              "      <td>56.800000</td>\n",
              "      <td>143.000000</td>\n",
              "      <td>394.000000</td>\n",
              "      <td>1.000000</td>\n",
              "    </tr>\n",
              "  </tbody>\n",
              "</table>\n",
              "</div>\n",
              "      <button class=\"colab-df-convert\" onclick=\"convertToInteractive('df-c4d68f55-653a-458f-9c04-8deafa53c635')\"\n",
              "              title=\"Convert this dataframe to an interactive table.\"\n",
              "              style=\"display:none;\">\n",
              "        \n",
              "  <svg xmlns=\"http://www.w3.org/2000/svg\" height=\"24px\"viewBox=\"0 0 24 24\"\n",
              "       width=\"24px\">\n",
              "    <path d=\"M0 0h24v24H0V0z\" fill=\"none\"/>\n",
              "    <path d=\"M18.56 5.44l.94 2.06.94-2.06 2.06-.94-2.06-.94-.94-2.06-.94 2.06-2.06.94zm-11 1L8.5 8.5l.94-2.06 2.06-.94-2.06-.94L8.5 2.5l-.94 2.06-2.06.94zm10 10l.94 2.06.94-2.06 2.06-.94-2.06-.94-.94-2.06-.94 2.06-2.06.94z\"/><path d=\"M17.41 7.96l-1.37-1.37c-.4-.4-.92-.59-1.43-.59-.52 0-1.04.2-1.43.59L10.3 9.45l-7.72 7.72c-.78.78-.78 2.05 0 2.83L4 21.41c.39.39.9.59 1.41.59.51 0 1.02-.2 1.41-.59l7.78-7.78 2.81-2.81c.8-.78.8-2.07 0-2.86zM5.41 20L4 18.59l7.72-7.72 1.47 1.35L5.41 20z\"/>\n",
              "  </svg>\n",
              "      </button>\n",
              "      \n",
              "  <style>\n",
              "    .colab-df-container {\n",
              "      display:flex;\n",
              "      flex-wrap:wrap;\n",
              "      gap: 12px;\n",
              "    }\n",
              "\n",
              "    .colab-df-convert {\n",
              "      background-color: #E8F0FE;\n",
              "      border: none;\n",
              "      border-radius: 50%;\n",
              "      cursor: pointer;\n",
              "      display: none;\n",
              "      fill: #1967D2;\n",
              "      height: 32px;\n",
              "      padding: 0 0 0 0;\n",
              "      width: 32px;\n",
              "    }\n",
              "\n",
              "    .colab-df-convert:hover {\n",
              "      background-color: #E2EBFA;\n",
              "      box-shadow: 0px 1px 2px rgba(60, 64, 67, 0.3), 0px 1px 3px 1px rgba(60, 64, 67, 0.15);\n",
              "      fill: #174EA6;\n",
              "    }\n",
              "\n",
              "    [theme=dark] .colab-df-convert {\n",
              "      background-color: #3B4455;\n",
              "      fill: #D2E3FC;\n",
              "    }\n",
              "\n",
              "    [theme=dark] .colab-df-convert:hover {\n",
              "      background-color: #434B5C;\n",
              "      box-shadow: 0px 1px 3px 1px rgba(0, 0, 0, 0.15);\n",
              "      filter: drop-shadow(0px 1px 2px rgba(0, 0, 0, 0.3));\n",
              "      fill: #FFFFFF;\n",
              "    }\n",
              "  </style>\n",
              "\n",
              "      <script>\n",
              "        const buttonEl =\n",
              "          document.querySelector('#df-c4d68f55-653a-458f-9c04-8deafa53c635 button.colab-df-convert');\n",
              "        buttonEl.style.display =\n",
              "          google.colab.kernel.accessAllowed ? 'block' : 'none';\n",
              "\n",
              "        async function convertToInteractive(key) {\n",
              "          const element = document.querySelector('#df-c4d68f55-653a-458f-9c04-8deafa53c635');\n",
              "          const dataTable =\n",
              "            await google.colab.kernel.invokeFunction('convertToInteractive',\n",
              "                                                     [key], {});\n",
              "          if (!dataTable) return;\n",
              "\n",
              "          const docLinkHtml = 'Like what you see? Visit the ' +\n",
              "            '<a target=\"_blank\" href=https://colab.research.google.com/notebooks/data_table.ipynb>data table notebook</a>'\n",
              "            + ' to learn more about interactive tables.';\n",
              "          element.innerHTML = '';\n",
              "          dataTable['output_type'] = 'display_data';\n",
              "          await google.colab.output.renderOutput(dataTable, element);\n",
              "          const docLink = document.createElement('div');\n",
              "          docLink.innerHTML = docLinkHtml;\n",
              "          element.appendChild(docLink);\n",
              "        }\n",
              "      </script>\n",
              "    </div>\n",
              "  </div>\n",
              "  "
            ]
          },
          "metadata": {},
          "execution_count": 21
        }
      ]
    },
    {
      "cell_type": "markdown",
      "source": [
        "# **EDA**"
      ],
      "metadata": {
        "id": "4IkGOs5NcaCX"
      }
    },
    {
      "cell_type": "code",
      "source": [
        "sns.countplot(cardio_df['TenYearCHD'])"
      ],
      "metadata": {
        "colab": {
          "base_uri": "https://localhost:8080/",
          "height": 354
        },
        "id": "BhBkHkOacb_P",
        "outputId": "0e310b63-479f-4a28-807b-f18e640c2059"
      },
      "execution_count": 22,
      "outputs": [
        {
          "output_type": "stream",
          "name": "stderr",
          "text": [
            "/usr/local/lib/python3.7/dist-packages/seaborn/_decorators.py:43: FutureWarning: Pass the following variable as a keyword arg: x. From version 0.12, the only valid positional argument will be `data`, and passing other arguments without an explicit keyword will result in an error or misinterpretation.\n",
            "  FutureWarning\n"
          ]
        },
        {
          "output_type": "execute_result",
          "data": {
            "text/plain": [
              "<matplotlib.axes._subplots.AxesSubplot at 0x7f877aac82d0>"
            ]
          },
          "metadata": {},
          "execution_count": 22
        },
        {
          "output_type": "display_data",
          "data": {
            "text/plain": [
              "<Figure size 432x288 with 1 Axes>"
            ],
            "image/png": "[encoded data removed]"
          },
          "metadata": {
            "needs_background": "light"
          }
        }
      ]
    },
    {
      "cell_type": "code",
      "source": [
        "categorical_columns = ['sex','is_smoking','education','BPMeds','prevalentStroke', 'prevalentHyp', 'diabetes']\n",
        "numerical_columns = ['age','cigsPerDay','totChol','sysBP','diaBP','BMI','heartRate','glucose']"
      ],
      "metadata": {
        "id": "FrUwByAkchoJ"
      },
      "execution_count": 23,
      "outputs": []
    },
    {
      "cell_type": "code",
      "source": [
        "cardio_df['TenYearCHD'].value_counts()"
      ],
      "metadata": {
        "colab": {
          "base_uri": "https://localhost:8080/"
        },
        "id": "np9pd37FGbc_",
        "outputId": "f3e66084-c17b-43fe-d0ed-b3a05b56d6d6"
      },
      "execution_count": 26,
      "outputs": [
        {
          "output_type": "execute_result",
          "data": {
            "text/plain": [
              "0    2879\n",
              "1     511\n",
              "Name: TenYearCHD, dtype: int64"
            ]
          },
          "metadata": {},
          "execution_count": 26
        }
      ]
    },
    {
      "cell_type": "code",
      "source": [
        "cardio_df['prevalentStroke'].value_counts()"
      ],
      "metadata": {
        "colab": {
          "base_uri": "https://localhost:8080/"
        },
        "id": "FE_Vt5iDGgPP",
        "outputId": "155c53ba-f045-4764-a696-680efd71b7db"
      },
      "execution_count": 27,
      "outputs": [
        {
          "output_type": "execute_result",
          "data": {
            "text/plain": [
              "0    3368\n",
              "1      22\n",
              "Name: prevalentStroke, dtype: int64"
            ]
          },
          "metadata": {},
          "execution_count": 27
        }
      ]
    },
    {
      "cell_type": "code",
      "source": [
        "cardio_df['prevalentHyp'].value_counts()"
      ],
      "metadata": {
        "colab": {
          "base_uri": "https://localhost:8080/"
        },
        "id": "qJnJ_qKwGjkV",
        "outputId": "7d17f998-97b5-4104-9728-c22dc0498d67"
      },
      "execution_count": 28,
      "outputs": [
        {
          "output_type": "execute_result",
          "data": {
            "text/plain": [
              "0    2321\n",
              "1    1069\n",
              "Name: prevalentHyp, dtype: int64"
            ]
          },
          "metadata": {},
          "execution_count": 28
        }
      ]
    },
    {
      "cell_type": "code",
      "source": [
        "cardio_df['diabetes'].value_counts()"
      ],
      "metadata": {
        "colab": {
          "base_uri": "https://localhost:8080/"
        },
        "id": "X1pIY1DdGmdi",
        "outputId": "1059426a-4e60-4fa0-a6b8-e542a7f640f1"
      },
      "execution_count": 29,
      "outputs": [
        {
          "output_type": "execute_result",
          "data": {
            "text/plain": [
              "0    3303\n",
              "1      87\n",
              "Name: diabetes, dtype: int64"
            ]
          },
          "metadata": {},
          "execution_count": 29
        }
      ]
    },
    {
      "cell_type": "code",
      "source": [
        "cardio_df['BMI'].value_counts()"
      ],
      "metadata": {
        "colab": {
          "base_uri": "https://localhost:8080/"
        },
        "id": "mjpSkkd5Gpjy",
        "outputId": "6c320b59-0a69-47bd-ab0f-91d4cde23076"
      },
      "execution_count": 30,
      "outputs": [
        {
          "output_type": "execute_result",
          "data": {
            "text/plain": [
              "25.38    24\n",
              "22.91    17\n",
              "22.54    16\n",
              "22.19    15\n",
              "23.48    12\n",
              "         ..\n",
              "39.04     1\n",
              "26.66     1\n",
              "29.55     1\n",
              "35.58     1\n",
              "31.09     1\n",
              "Name: BMI, Length: 1259, dtype: int64"
            ]
          },
          "metadata": {},
          "execution_count": 30
        }
      ]
    },
    {
      "cell_type": "code",
      "source": [
        "cardio_df['diaBP'].value_counts()"
      ],
      "metadata": {
        "colab": {
          "base_uri": "https://localhost:8080/"
        },
        "id": "Q7cHprK_GsAI",
        "outputId": "97fc7b3f-782e-4a8f-b6e6-20dc5a1aaec8"
      },
      "execution_count": 31,
      "outputs": [
        {
          "output_type": "execute_result",
          "data": {
            "text/plain": [
              "80.0     213\n",
              "82.0     123\n",
              "70.0     109\n",
              "85.0     107\n",
              "90.0     100\n",
              "        ... \n",
              "48.0       1\n",
              "60.5       1\n",
              "129.0      1\n",
              "115.5      1\n",
              "51.0       1\n",
              "Name: diaBP, Length: 142, dtype: int64"
            ]
          },
          "metadata": {},
          "execution_count": 31
        }
      ]
    },
    {
      "cell_type": "code",
      "source": [
        "cardio_df['sysBP'].value_counts()"
      ],
      "metadata": {
        "colab": {
          "base_uri": "https://localhost:8080/"
        },
        "id": "58DOk0VIGwi8",
        "outputId": "e088f1d3-b748-4073-88eb-80e3d0b7ad6b"
      },
      "execution_count": 32,
      "outputs": [
        {
          "output_type": "execute_result",
          "data": {
            "text/plain": [
              "110.0    87\n",
              "120.0    85\n",
              "130.0    85\n",
              "125.0    69\n",
              "115.0    68\n",
              "         ..\n",
              "214.0     1\n",
              "188.5     1\n",
              "230.0     1\n",
              "169.5     1\n",
              "85.5      1\n",
              "Name: sysBP, Length: 226, dtype: int64"
            ]
          },
          "metadata": {},
          "execution_count": 32
        }
      ]
    },
    {
      "cell_type": "code",
      "source": [
        "cardio_df['cigsPerDay'].value_counts()"
      ],
      "metadata": {
        "colab": {
          "base_uri": "https://localhost:8080/"
        },
        "id": "eKdjcdylG1tE",
        "outputId": "82cb7e08-45a6-4626-8ea6-edd5d66c3ce1"
      },
      "execution_count": 33,
      "outputs": [
        {
          "output_type": "execute_result",
          "data": {
            "text/plain": [
              "0.0     1725\n",
              "20.0     606\n",
              "30.0     176\n",
              "15.0     172\n",
              "10.0     106\n",
              "9.0      104\n",
              "5.0      103\n",
              "3.0       79\n",
              "40.0      62\n",
              "1.0       48\n",
              "25.0      44\n",
              "43.0      42\n",
              "35.0      17\n",
              "2.0       17\n",
              "6.0       14\n",
              "8.0       10\n",
              "7.0        8\n",
              "60.0       8\n",
              "18.0       7\n",
              "4.0        7\n",
              "50.0       6\n",
              "17.0       5\n",
              "23.0       5\n",
              "11.0       4\n",
              "12.0       3\n",
              "13.0       3\n",
              "19.0       2\n",
              "16.0       2\n",
              "45.0       2\n",
              "14.0       1\n",
              "70.0       1\n",
              "38.0       1\n",
              "Name: cigsPerDay, dtype: int64"
            ]
          },
          "metadata": {},
          "execution_count": 33
        }
      ]
    },
    {
      "cell_type": "code",
      "source": [
        "cardio_df['BPMeds'].value_counts()"
      ],
      "metadata": {
        "colab": {
          "base_uri": "https://localhost:8080/"
        },
        "id": "MWCCvk_oG5Yx",
        "outputId": "1408d81c-261f-4eeb-8066-bc1f9a8f5f0d"
      },
      "execution_count": 34,
      "outputs": [
        {
          "output_type": "execute_result",
          "data": {
            "text/plain": [
              "0.0    3290\n",
              "1.0     100\n",
              "Name: BPMeds, dtype: int64"
            ]
          },
          "metadata": {},
          "execution_count": 34
        }
      ]
    },
    {
      "cell_type": "code",
      "execution_count": 35,
      "metadata": {
        "id": "Xij1qtigOgxL",
        "colab": {
          "base_uri": "https://localhost:8080/"
        },
        "outputId": "bedf9d32-c2d7-4606-cb8b-a17c384b44e3"
      },
      "outputs": [
        {
          "output_type": "execute_result",
          "data": {
            "text/plain": [
              "25.38    24\n",
              "22.91    17\n",
              "22.54    16\n",
              "22.19    15\n",
              "23.48    12\n",
              "         ..\n",
              "39.04     1\n",
              "26.66     1\n",
              "29.55     1\n",
              "35.58     1\n",
              "31.09     1\n",
              "Name: BMI, Length: 1259, dtype: int64"
            ]
          },
          "metadata": {},
          "execution_count": 35
        }
      ],
      "source": [
        "cardio_df['BMI'].value_counts()"
      ]
    },
    {
      "cell_type": "code",
      "execution_count": 36,
      "metadata": {
        "id": "xScQqt69OkOR",
        "colab": {
          "base_uri": "https://localhost:8080/"
        },
        "outputId": "5a76e96e-7510-4e07-9f49-9cd837d1e5b1"
      },
      "outputs": [
        {
          "output_type": "execute_result",
          "data": {
            "text/plain": [
              "234.0    69\n",
              "240.0    65\n",
              "210.0    51\n",
              "220.0    48\n",
              "260.0    46\n",
              "         ..\n",
              "137.0     1\n",
              "113.0     1\n",
              "392.0     1\n",
              "353.0     1\n",
              "364.0     1\n",
              "Name: totChol, Length: 240, dtype: int64"
            ]
          },
          "metadata": {},
          "execution_count": 36
        }
      ],
      "source": [
        "cardio_df['totChol'].value_counts()"
      ]
    },
    {
      "cell_type": "code",
      "execution_count": 37,
      "metadata": {
        "id": "PFnb9hYAOn7v",
        "colab": {
          "base_uri": "https://localhost:8080/"
        },
        "outputId": "cded34ec-3324-43b0-e9ea-40f09abe62df"
      },
      "outputs": [
        {
          "output_type": "execute_result",
          "data": {
            "text/plain": [
              "75.0     443\n",
              "80.0     298\n",
              "70.0     241\n",
              "85.0     191\n",
              "72.0     184\n",
              "        ... \n",
              "47.0       1\n",
              "143.0      1\n",
              "51.0       1\n",
              "140.0      1\n",
              "97.0       1\n",
              "Name: heartRate, Length: 68, dtype: int64"
            ]
          },
          "metadata": {},
          "execution_count": 37
        }
      ],
      "source": [
        "cardio_df['heartRate'].value_counts()"
      ]
    },
    {
      "cell_type": "code",
      "execution_count": 38,
      "metadata": {
        "id": "UUO0S7p0PJi1",
        "colab": {
          "base_uri": "https://localhost:8080/"
        },
        "outputId": "ede4cc6b-9364-4d95-90a4-0bcbd25acbc6"
      },
      "outputs": [
        {
          "output_type": "execute_result",
          "data": {
            "text/plain": [
              "78.0     421\n",
              "75.0     149\n",
              "83.0     135\n",
              "70.0     123\n",
              "77.0     122\n",
              "        ... \n",
              "191.0      1\n",
              "119.0      1\n",
              "43.0       1\n",
              "256.0      1\n",
              "274.0      1\n",
              "Name: glucose, Length: 132, dtype: int64"
            ]
          },
          "metadata": {},
          "execution_count": 38
        }
      ],
      "source": [
        "cardio_df['glucose'].value_counts()"
      ]
    },
    {
      "cell_type": "code",
      "execution_count": 39,
      "metadata": {
        "id": "J0mx5b9GPS3Q",
        "colab": {
          "base_uri": "https://localhost:8080/"
        },
        "outputId": "56326c7e-b6bc-4d1b-f028-b67ba53b03df"
      },
      "outputs": [
        {
          "output_type": "execute_result",
          "data": {
            "text/plain": [
              "0    3303\n",
              "1      87\n",
              "Name: diabetes, dtype: int64"
            ]
          },
          "metadata": {},
          "execution_count": 39
        }
      ],
      "source": [
        "cardio_df['diabetes'].value_counts()"
      ]
    }
  ],
  "metadata": {
    "colab": {
      "collapsed_sections": [],
      "name": "Cardiovascular-Risk-Prediction - Capstone Project.ipynb",
      "provenance": [],
      "include_colab_link": true
    },
    "kernelspec": {
      "display_name": "Python 3",
      "language": "python",
      "name": "python3"
    },
    "language_info": {
      "codemirror_mode": {
        "name": "ipython",
        "version": 3
      },
      "file_extension": ".py",
      "mimetype": "text/x-python",
      "name": "python",
      "nbconvert_exporter": "python",
      "pygments_lexer": "ipython3",
      "version": "3.6.6"
    }
  },
  "nbformat": 4,
  "nbformat_minor": 0
}